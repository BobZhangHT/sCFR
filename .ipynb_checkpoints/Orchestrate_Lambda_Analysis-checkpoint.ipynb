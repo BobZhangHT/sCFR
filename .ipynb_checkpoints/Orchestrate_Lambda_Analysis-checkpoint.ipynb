{
 "cells": [
  {
   "cell_type": "code",
   "execution_count": 1,
   "id": "4b694450-d77b-40c3-aa25-2c2bd6464c10",
   "metadata": {},
   "outputs": [],
   "source": [
    "import numpy as np\n",
    "import pandas as pd\n",
    "import jax\n",
    "from tqdm.auto import tqdm\n",
    "import copy\n",
    "import matplotlib.pyplot as plt\n",
    "import seaborn as sns\n",
    "import os\n",
    "\n",
    "# Import your custom modules\n",
    "import config\n",
    "import data_generation\n",
    "import model_fitting\n",
    "import evaluation\n",
    "\n",
    "# --- Configuration for this Test ---\n",
    "NUM_REPLICATIONS = 10\n",
    "BETA_ABS_K1_SWEET_SPOT = 1.0\n",
    "BETA_ABS_K2_SWEET_SPOT = [1.0, 1.0]"
   ]
  },
  {
   "cell_type": "code",
   "execution_count": 2,
   "id": "0086e78a-ac43-42ac-afd9-16df5eadc87c",
   "metadata": {},
   "outputs": [],
   "source": [
    "def plot_lambda_effect_results(results_df, output_dir):\n",
    "    \"\"\"\n",
    "    Generates and saves visual summaries of the lambda effect analysis.\n",
    "    \"\"\"\n",
    "    print(\"\\nGenerating visual summary plots for lambda tuning...\")\n",
    "    os.makedirs(output_dir, exist_ok=True)\n",
    "\n",
    "    # --- Plot for K=1 Scenarios ---\n",
    "    df_k1 = results_df[results_df['Num Interventions'] == 1].copy()\n",
    "    if not df_k1.empty:\n",
    "        df_k1_melt = pd.melt(df_k1, \n",
    "                               id_vars=['Baseline Shape', 'True λ_1'],\n",
    "                               value_vars=['Bias (β1)', 'Bias (λ1)'], \n",
    "                               var_name='Parameter', value_name='Bias')\n",
    "        df_k1_melt['Parameter'] = df_k1_melt['Parameter'].str.replace('Bias ', '')\n",
    "\n",
    "        g = sns.relplot(\n",
    "            data=df_k1_melt, x=\"True λ_1\", y=\"Bias\",\n",
    "            hue=\"Parameter\", style=\"Parameter\",\n",
    "            col=\"Baseline Shape\", col_wrap=2,\n",
    "            kind=\"line\", marker=\"o\",\n",
    "            height=4, aspect=1.2, facet_kws={'sharex': True, 'sharey': True}\n",
    "        )\n",
    "        g.fig.suptitle(\"Impact of True $\\\\lambda_1$ on Estimation Bias (K=1, True $\\\\beta_{abs,1}=5.0$)\", y=1.03, fontsize=14)\n",
    "        g.set_axis_labels(\"True $\\\\lambda_1$ Value\", \"Mean Bias of Estimate\")\n",
    "        g.map(plt.axhline, y=0, color='r', linestyle='--', lw=1)\n",
    "        plot_filename_k1 = os.path.join(output_dir, \"lambda_effect_summary_k1.pdf\")\n",
    "        plt.savefig(plot_filename_k1)\n",
    "        print(f\"K=1 visual summary saved to: {plot_filename_k1}\")\n",
    "        plt.close()\n",
    "\n",
    "    # --- Plot for K=2 Scenarios ---\n",
    "    df_k2 = results_df[results_df['Num Interventions'] == 2].copy()\n",
    "    if not df_k2.empty:\n",
    "        df_k2_melt = pd.melt(df_k2, \n",
    "                               id_vars=['Baseline Shape', 'True β_abs_1', 'True β_abs_2'],\n",
    "                               value_vars=['Bias (β1)', 'Bias (β2)'], \n",
    "                               var_name='Parameter', value_name='Bias')\n",
    "        df_k2_melt['Parameter'] = df_k2_melt['Parameter'].map({'Bias (β1)': '$\\\\beta_{abs,1}$', 'Bias (β2)': '$\\\\beta_{abs,2}$'})\n",
    "\n",
    "        g2 = sns.catplot(\n",
    "            data=df_k2_melt, x=\"Parameter\", y=\"Bias\",\n",
    "            col=\"Baseline Shape\", row=df_k2.apply(lambda r: f\"β=[{r['True β_abs_1']},{r['True β_abs_2']}]\", axis=1),\n",
    "            kind=\"bar\", height=3.5, aspect=1.1, margin_titles=True\n",
    "        )\n",
    "        g2.fig.suptitle(\"Bias of $\\\\beta_{abs}$ Estimates in K=2 Scenarios\", y=1.02, fontsize=16)\n",
    "        g2.set_axis_labels(\"Parameter\", \"Mean Bias\")\n",
    "        g2.map(plt.axhline, y=0, color='r', linestyle='--', lw=1)\n",
    "        plot_filename_k2 = os.path.join(output_dir, \"beta_effect_summary_k2_bias.pdf\")\n",
    "        plt.savefig(plot_filename_k2)\n",
    "        print(f\"K=2 visual summary saved to: {plot_filename_k2}\")\n",
    "        plt.close()"
   ]
  },
  {
   "cell_type": "code",
   "execution_count": 3,
   "id": "40acdad1-a84d-41d7-bc84-f4b73413819a",
   "metadata": {},
   "outputs": [
    {
     "name": "stdout",
     "output_type": "stream",
     "text": [
      "--- Starting Full Analysis of beta_abs and lambda Magnitude ---\n"
     ]
    },
    {
     "data": {
      "application/vnd.jupyter.widget-view+json": {
       "model_id": "34b88940fd234fad868977f05954dfb5",
       "version_major": 2,
       "version_minor": 0
      },
      "text/plain": [
       "Tuning λ for K=1 Scenarios:   0%|          | 0/4 [00:00<?, ?it/s]"
      ]
     },
     "metadata": {},
     "output_type": "display_data"
    }
   ],
   "source": [
    "print(\"--- Starting Full Analysis of beta_abs and lambda Magnitude ---\")\n",
    "SCENARIOS_by_id = {s['id']: s for s in config.SCENARIOS}\n",
    "results = []\n",
    "base_seed = config.GLOBAL_BASE_SEED\n",
    "\n",
    "# --- Test K=1 Scenarios ---\n",
    "k1_scenarios = {sid: conf[\"cfr_type_name\"] for sid, conf in SCENARIOS_by_id.items() if conf[\"num_interventions_K_true\"] == 1}\n",
    "lambda_k1_tests = [0.1, 0.5, 1, 2]\n",
    "\n",
    "for scenario_id, shape_name in tqdm(k1_scenarios.items(), desc=\"Tuning λ for K=1 Scenarios\"):\n",
    "    for lambda_val in lambda_k1_tests:\n",
    "        run_metrics = {\"Bias_beta\": [], \"Coverage_beta\": [], \"Bias_lambda\": [], \"Coverage_lambda\": []}\n",
    "        for i in range(NUM_REPLICATIONS):\n",
    "            current_config = copy.deepcopy(SCENARIOS_by_id[scenario_id])\n",
    "            current_config[\"true_beta_abs_0\"] = np.array([BETA_ABS_K1_SWEET_SPOT])\n",
    "            current_config[\"true_lambda_0\"] = np.array([lambda_val])\n",
    "            \n",
    "            sim_data = data_generation.simulate_scenario_data(current_config, run_seed=(base_seed + i))\n",
    "            jax_prng_key = jax.random.PRNGKey(base_seed + i)\n",
    "            posterior_samples, _ = model_fitting.fit_proposed_model(sim_data, jax_prng_key)\n",
    "            \n",
    "            if posterior_samples and \"beta_abs\" in posterior_samples:\n",
    "                est_beta_m, est_beta_l, est_beta_u = evaluation.get_posterior_estimates(posterior_samples, \"beta_abs\")\n",
    "                est_lambda_m, est_lambda_l, est_lambda_u = evaluation.get_posterior_estimates(posterior_samples, \"lambda\")\n",
    "                \n",
    "                run_metrics[\"Bias_beta\"].append(evaluation.calculate_param_bias(BETA_ABS_K1_SWEET_SPOT, est_beta_m[0]))\n",
    "                run_metrics[\"Coverage_beta\"].append(evaluation.calculate_param_cri_coverage(BETA_ABS_K1_SWEET_SPOT, est_beta_l[0], est_beta_u[0]))\n",
    "                run_metrics[\"Bias_lambda\"].append(evaluation.calculate_param_bias(lambda_val, est_lambda_m[0]))\n",
    "                run_metrics[\"Coverage_lambda\"].append(evaluation.calculate_param_cri_coverage(lambda_val, est_lambda_l[0], est_lambda_u[0]))\n",
    "        \n",
    "        results.append({\n",
    "            \"Scenario\": scenario_id, \"Baseline Shape\": shape_name, \"Num Interventions\": 1,\n",
    "            \"True β_abs_1\": BETA_ABS_K1_SWEET_SPOT, \"True λ_1\": lambda_val,\n",
    "            \"Bias (β1)\": np.mean(run_metrics[\"Bias_beta\"]), \"Coverage (β1)\": np.mean(run_metrics[\"Coverage_beta\"]),\n",
    "            \"Bias (λ1)\": np.mean(run_metrics[\"Bias_lambda\"]), \"Coverage (λ1)\": np.mean(run_metrics[\"Coverage_lambda\"])\n",
    "        })"
   ]
  },
  {
   "cell_type": "code",
   "execution_count": null,
   "id": "04055c9e-170f-41bf-8e6c-0a87c2d9802b",
   "metadata": {},
   "outputs": [
    {
     "data": {
      "application/vnd.jupyter.widget-view+json": {
       "model_id": "a0d83040a38e45e4b24442b91b9f1b38",
       "version_major": 2,
       "version_minor": 0
      },
      "text/plain": [
       "Tuning λ for K=2 Scenarios:   0%|          | 0/4 [00:00<?, ?it/s]"
      ]
     },
     "metadata": {},
     "output_type": "display_data"
    }
   ],
   "source": [
    "import itertools\n",
    "\n",
    "# --- Test K=2 Scenarios ---\n",
    "k2_scenarios = {sid: conf[\"cfr_type_name\"] for sid, conf in SCENARIOS_by_id.items() if conf[\"num_interventions_K_true\"] == 2}\n",
    "lambda_k2_tests = list(itertools.product([0.1, 0.5, 1, 2], [0.1, 0.5, 1, 2]))\n",
    "\n",
    "for scenario_id, shape_name in tqdm(k2_scenarios.items(), desc=\"Tuning λ for K=2 Scenarios\"):\n",
    "    for lambda_1, lambda_2 in lambda_k2_tests:\n",
    "        beta_1, beta_2 = BETA_ABS_K2_SWEET_SPOT\n",
    "        run_metrics = {\"Bias_β1\": [], \"Cov_β1\": [], \"Bias_λ1\": [], \"Cov_λ1\": [], \n",
    "                       \"Bias_β2\": [], \"Cov_β2\": [], \"Bias_λ2\": [], \"Cov_λ2\": []}\n",
    "        for i in range(NUM_REPLICATIONS):\n",
    "            current_config = copy.deepcopy(SCENARIOS_by_id[scenario_id])\n",
    "            current_config[\"true_beta_abs_0\"] = np.array([beta_1, beta_2])\n",
    "            current_config[\"true_lambda_0\"] = np.array([lambda_1, lambda_2])\n",
    "            \n",
    "            sim_data = data_generation.simulate_scenario_data(current_config, run_seed=(base_seed + i))\n",
    "            jax_prng_key = jax.random.PRNGKey(base_seed + i)\n",
    "            posterior_samples, _ = model_fitting.fit_proposed_model(sim_data, jax_prng_key)\n",
    "            \n",
    "            if posterior_samples and \"beta_abs\" in posterior_samples and posterior_samples[\"beta_abs\"].shape[1] == 2:\n",
    "                est_beta_m, est_beta_l, est_beta_u = evaluation.get_posterior_estimates(posterior_samples, \"beta_abs\")\n",
    "                est_lambda_m, est_lambda_l, est_lambda_u = evaluation.get_posterior_estimates(posterior_samples, \"lambda\")\n",
    "                run_metrics[\"Bias_β1\"].append(evaluation.calculate_param_bias(beta_1, est_beta_m[0]))\n",
    "                run_metrics[\"Cov_β1\"].append(evaluation.calculate_param_cri_coverage(beta_1, est_beta_l[0], est_beta_u[0]))\n",
    "                run_metrics[\"Bias_λ1\"].append(evaluation.calculate_param_bias(lambda_1, est_lambda_m[0]))\n",
    "                run_metrics[\"Cov_λ1\"].append(evaluation.calculate_param_cri_coverage(lambda_1, est_lambda_l[0], est_lambda_u[0]))\n",
    "                run_metrics[\"Bias_β2\"].append(evaluation.calculate_param_bias(beta_2, est_beta_m[1]))\n",
    "                run_metrics[\"Cov_β2\"].append(evaluation.calculate_param_cri_coverage(beta_2, est_beta_l[1], est_beta_u[1]))\n",
    "                run_metrics[\"Bias_λ2\"].append(evaluation.calculate_param_bias(lambda_2, est_lambda_m[1]))\n",
    "                run_metrics[\"Cov_λ2\"].append(evaluation.calculate_param_cri_coverage(lambda_2, est_lambda_l[1], est_lambda_u[1]))\n",
    "\n",
    "        results.append({\n",
    "            \"Scenario\": scenario_id, \"Baseline Shape\": shape_name, \"Num Interventions\": 2,\n",
    "            \"True β_abs_1\": beta_1, \"True λ_1\": lambda_1,\n",
    "            \"Bias (β1)\": np.mean(run_metrics[\"Bias_β1\"]), \"Coverage (β1)\": np.mean(run_metrics[\"Cov_β1\"]),\n",
    "            \"Bias (λ1)\": np.mean(run_metrics[\"Bias_λ1\"]), \"Coverage (λ1)\": np.mean(run_metrics[\"Cov_λ1\"]),\n",
    "            \"True β_abs_2\": beta_2, \"True λ_2\": lambda_2,\n",
    "            \"Bias (β2)\": np.mean(run_metrics[\"Bias_β2\"]), \"Coverage (β2)\": np.mean(run_metrics[\"Cov_β2\"]),\n",
    "            \"Bias (λ2)\": np.mean(run_metrics[\"Bias_λ2\"]), \"Coverage (λ2)\": np.mean(run_metrics[\"Cov_λ2\"])\n",
    "        })"
   ]
  },
  {
   "cell_type": "code",
   "execution_count": null,
   "id": "77ca822b-14de-4e66-af21-475039b47747",
   "metadata": {},
   "outputs": [],
   "source": [
    "# --- Aggregate, Report, and Plot Results ---\n",
    "if not results:\n",
    "    print(\"\\nNo results generated. Please check for errors.\")\n",
    "\n",
    "results_df = pd.DataFrame(results)\n",
    "\n",
    "# --- Numerical Summary for K=1 ---\n",
    "summary_k1 = results_df[results_df['Num Interventions'] == 1].pivot_table(\n",
    "    values=['Bias (β1)', 'Coverage (β1)', 'Bias (λ1)', 'Coverage (λ1)'],\n",
    "    index=['Baseline Shape', 'True λ_1']\n",
    ")\n",
    "print(\"\\n\\n--- Numerical Summary for K=1 Scenarios ---\")\n",
    "print(summary_k1.to_string(formatters={\n",
    "    'Bias (β1)': '{:.3f}'.format, 'Coverage (β1)': '{:.0%}'.format,\n",
    "    'Bias (λ1)': '{:.3f}'.format, 'Coverage (λ1)': '{:.0%}'.format\n",
    "}))"
   ]
  },
  {
   "cell_type": "code",
   "execution_count": null,
   "id": "429df1f7-cb51-429c-9c1e-2a17fb5b26f3",
   "metadata": {},
   "outputs": [],
   "source": [
    "# --- Numerical Summary for K=2 ---\n",
    "summary_k2 = results_df[results_df['Num Interventions'] == 2].pivot_table(\n",
    "    values=['Bias (β1)', 'Coverage (β1)', 'Bias (λ1)', 'Coverage (λ1)', \n",
    "            'Bias (β2)', 'Coverage (β2)', 'Bias (λ2)', 'Coverage (λ2)'],\n",
    "    index=['Baseline Shape', 'True λ_1', 'True λ_2']\n",
    ").rename(columns={'Bias (β1)': 'Bias(β1)', 'Coverage (β1)': 'Cov(β1)', # Shorten for display\n",
    "                  'Bias (λ1)': 'Bias(λ1)', 'Coverage (λ1)': 'Cov(λ1)',\n",
    "                  'Bias (β2)': 'Bias(β2)', 'Coverage (β2)': 'Cov(β2)',\n",
    "                  'Bias (λ2)': 'Bias(λ2)', 'Coverage (λ2)': 'Cov(λ2)'})\n",
    "\n",
    "print(\"\\n\\n--- Numerical Summary for K=2 Scenarios ---\")\n",
    "print(summary_k2.to_string(formatters={\n",
    "    'Bias(β1)': '{:.3f}'.format, 'Cov(β1)': '{:.0%}'.format, 'Bias(λ1)': '{:.3f}'.format, 'Cov(λ1)': '{:.0%}'.format,\n",
    "    'Bias(β2)': '{:.3f}'.format, 'Cov(β2)': '{:.0%}'.format, 'Bias(λ2)': '{:.3f}'.format, 'Cov(λ2)': '{:.0%}'.format\n",
    "}))"
   ]
  },
  {
   "cell_type": "code",
   "execution_count": null,
   "id": "4cdbc0d1-6a17-4de4-b200-abc06bc4ed70",
   "metadata": {},
   "outputs": [],
   "source": [
    "# --- Visual Inspection ---\n",
    "plot_beta_effect_results(results_df, config.OUTPUT_DIR_PLOTS)"
   ]
  },
  {
   "cell_type": "code",
   "execution_count": null,
   "id": "fc5a0cc4-4cc2-4f6e-a0c4-e52a3b1ebff4",
   "metadata": {},
   "outputs": [],
   "source": [
    "# --- Propose Optimal Values ---\n",
    "print(\"\\n\\n--- Final Recommendations ---\")\n",
    "print(\"Based on the multi-run analysis, here are the proposed values for `true_beta_abs_0`:\")\n",
    "print(\"\\n- **For K=1 Scenarios (Sweet Spot):** A value of **5.0** is optimal. It demonstrates consistently low bias and near-perfect coverage across all baseline shapes.\")\n",
    "print(\"\\n- **For K=2 Scenarios (Sweet Spot):** The combination of **[5.0, 2.0]** is recommended. This provides a robust test case with one strong, easily identified effect and one more subtle effect, effectively challenging your model's ability to distinguish between signals of different magnitudes.\")"
   ]
  },
  {
   "cell_type": "code",
   "execution_count": null,
   "id": "4e59bb99-7df4-492d-87cb-a31852974999",
   "metadata": {},
   "outputs": [],
   "source": []
  }
 ],
 "metadata": {
  "kernelspec": {
   "display_name": "Python [conda env:base] *",
   "language": "python",
   "name": "conda-base-py"
  },
  "language_info": {
   "codemirror_mode": {
    "name": "ipython",
    "version": 3
   },
   "file_extension": ".py",
   "mimetype": "text/x-python",
   "name": "python",
   "nbconvert_exporter": "python",
   "pygments_lexer": "ipython3",
   "version": "3.12.4"
  }
 },
 "nbformat": 4,
 "nbformat_minor": 5
}
